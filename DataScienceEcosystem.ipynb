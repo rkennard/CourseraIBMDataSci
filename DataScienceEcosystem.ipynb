{
  "metadata": {
    "kernelspec": {
      "name": "python",
      "display_name": "Python (Pyodide)",
      "language": "python"
    },
    "language_info": {
      "codemirror_mode": {
        "name": "python",
        "version": 3
      },
      "file_extension": ".py",
      "mimetype": "text/x-python",
      "name": "python",
      "nbconvert_exporter": "python",
      "pygments_lexer": "ipython3",
      "version": "3.8"
    }
  },
  "nbformat_minor": 5,
  "nbformat": 4,
  "cells": [
    {
      "id": "42ba3614-bd41-4914-bd39-602bf6fd465e",
      "cell_type": "markdown",
      "source": "# Data Science Tools and Ecosystem",
      "metadata": {}
    },
    {
      "id": "df5e57a9-817f-46fd-87f0-9a6c165548b2",
      "cell_type": "markdown",
      "source": "In this notebook, Data Science Tools and Ecosystem are summarized.",
      "metadata": {}
    },
    {
      "id": "b48248ec-4b32-410b-86c2-6257da9aa0ef",
      "cell_type": "markdown",
      "source": "**Objectives:**\n- List popular languages for Data Science\n- Demonstrate how to use ordered and unordered lists\n- Display your understanding of writing arithmetic",
      "metadata": {}
    },
    {
      "id": "dd913029-950f-4525-93d5-db2383eab550",
      "cell_type": "markdown",
      "source": "Some of the popular languages that Data Scientists use are:\n1. Python\n2. R\n3. Skala",
      "metadata": {}
    },
    {
      "id": "beab48a6-b578-45ad-8275-b34dc088eb8e",
      "cell_type": "markdown",
      "source": "Some of the commonly used libraries used by Data Scientists include:\n1. Pandas\n2. Matplotlib\n3. Seaborn",
      "metadata": {}
    },
    {
      "id": "d0f0fa0e-3f57-44cb-b65b-f3189127b63a",
      "cell_type": "markdown",
      "source": "| Data Science Tools |\n| ------------------ |\n| Apache Spark |\n| Hadoop |\n| PyTorch |\n| TensorFlow |",
      "metadata": {}
    },
    {
      "id": "de41c24c-0723-4fde-bf7d-6683aa329b98",
      "cell_type": "markdown",
      "source": "### Below are a few examples of evaluating arithmetic expressions in Python\n$$3 + 2 = 5$$\n$$7 - 4 = 3$$\n$$1 * 4 = 4$$",
      "metadata": {}
    },
    {
      "id": "6f1f8e5e-91d4-4b42-9741-eaa76f1864f6",
      "cell_type": "code",
      "source": "# This is a simple arithmetic expression to mulitple then add integers\n(3*4)+5",
      "metadata": {
        "trusted": true
      },
      "outputs": [
        {
          "execution_count": 1,
          "output_type": "execute_result",
          "data": {
            "text/plain": "17"
          },
          "metadata": {}
        }
      ],
      "execution_count": 1
    },
    {
      "id": "1bf8a839-5fbb-40b3-bb3f-ef09d4257da8",
      "cell_type": "code",
      "source": "# This will convert 200 minutes to hours by dividing by 60\n200/60",
      "metadata": {
        "trusted": true
      },
      "outputs": [
        {
          "execution_count": 3,
          "output_type": "execute_result",
          "data": {
            "text/plain": "3.3333333333333335"
          },
          "metadata": {}
        }
      ],
      "execution_count": 3
    },
    {
      "id": "f2c6554d-e849-4851-9246-471766f36bbd",
      "cell_type": "markdown",
      "source": "## Author\nRob Kennard",
      "metadata": {}
    }
  ]
}